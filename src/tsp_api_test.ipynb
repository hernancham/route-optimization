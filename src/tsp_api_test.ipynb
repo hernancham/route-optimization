{
 "cells": [
  {
   "cell_type": "code",
   "execution_count": null,
   "id": "194aaee0",
   "metadata": {},
   "outputs": [],
   "source": [
    "import folium\n",
    "import requests\n",
    "import osmnx as ox\n",
    "import networkx as nx\n",
    "from ortools.constraint_solver import routing_enums_pb2\n",
    "from ortools.constraint_solver import pywrapcp"
   ]
  },
  {
   "cell_type": "code",
   "execution_count": null,
   "id": "506fed4a",
   "metadata": {},
   "outputs": [],
   "source": [
    "# Añadir marcadores al mapa\n",
    "def add_marck_to_map(mapa, locaciones):\n",
    "    # cada locación es una lista [latitud, longitud, nombre]\n",
    "    for loc in locaciones:\n",
    "        folium.Marker(\n",
    "            location=[loc[0], loc[1]],\n",
    "            popup=f\"<b>{loc[2]}</b>\",\n",
    "            tooltip=loc[2] # Texto que aparece al pasar el cursor\n",
    "        ).add_to(mapa)"
   ]
  },
  {
   "cell_type": "code",
   "execution_count": null,
   "id": "e8be0959",
   "metadata": {},
   "outputs": [],
   "source": [
    "# Añadir rutas al mapa\n",
    "def add_route_to_map(mapa, rutas):\n",
    "    # Cada ruta es una lista de coordenadas [lat, lon]\n",
    "    \n",
    "    color = ['blue', 'green', 'red', 'purple', 'orange']\n",
    "    \n",
    "    for i, rut in enumerate(rutas):\n",
    "        folium.PolyLine(\n",
    "            locations=rut,\n",
    "            color=color[i % len(color)],\n",
    "            weight=5,\n",
    "            opacity=0.7\n",
    "        ).add_to(mapa)"
   ]
  },
  {
   "cell_type": "code",
   "execution_count": null,
   "id": "cef2fb64",
   "metadata": {},
   "outputs": [],
   "source": [
    "def get_route_for_streets(coord_inicio, coord_fin):\n",
    "    \"\"\"\n",
    "    Calcula la ruta por carretera entre dos puntos usando la API de OSRM.\n",
    "    Devuelve una lista de coordenadas [lat, lon].\n",
    "    \"\"\"\n",
    "    # Formato de coordenadas para la URL de OSRM es {lon},{lat}\n",
    "    lon_inicio, lat_inicio = coord_inicio[1], coord_inicio[0]\n",
    "    lon_fin, lat_fin = coord_fin[1], coord_fin[0]\n",
    "\n",
    "    url = f\"http://router.project-osrm.org/route/v1/driving/{lon_inicio},{lat_inicio};{lon_fin},{lat_fin}?overview=full&geometries=geojson\"\n",
    "\n",
    "    try:\n",
    "        respuesta = requests.get(url)\n",
    "        datos_ruta = respuesta.json()\n",
    "        # Extraer las coordenadas de la geometría de la ruta\n",
    "        coordenadas_ruta = datos_ruta['routes'][0]['geometry']['coordinates']\n",
    "        # OSRM devuelve [lon, lat], folium necesita [lat, lon], así que las invertimos\n",
    "        puntos_ruta = [[lat, lon] for lon, lat in coordenadas_ruta]\n",
    "        return puntos_ruta\n",
    "    except Exception as e:\n",
    "        print(f\"No se pudo obtener la ruta entre {coord_inicio} y {coord_fin}: {e}\")\n",
    "        return []"
   ]
  },
  {
   "cell_type": "code",
   "execution_count": null,
   "id": "b9304772",
   "metadata": {},
   "outputs": [],
   "source": [
    "# Crear matriz de distancias\n",
    "def crear_matriz_de_distancias(locaciones, grafo):\n",
    "    nodos_locaciones = [ox.nearest_nodes(grafo, Y=loc[0], X=loc[1]) for loc in locaciones]\n",
    "    n = len(locaciones)\n",
    "    matriz = [[0] * n for _ in range(n)]\n",
    "    for i in range(n):\n",
    "        for j in range(i, n):\n",
    "            longitud = nx.shortest_path_length(grafo, source=nodos_locaciones[i], target=nodos_locaciones[j], weight='length')\n",
    "            matriz[i][j] = longitud\n",
    "            matriz[j][i] = longitud\n",
    "    return matriz"
   ]
  },
  {
   "cell_type": "code",
   "execution_count": null,
   "id": "f24d7218",
   "metadata": {},
   "outputs": [],
   "source": [
    "# Resolver TSP con OR-Tools\n",
    "def resolver_tsp_con_ortools(matriz_distancias):\n",
    "    manager = pywrapcp.RoutingIndexManager(len(matriz_distancias), 1, 0)\n",
    "    routing = pywrapcp.RoutingModel(manager)\n",
    "    def distance_callback(from_index, to_index):\n",
    "        return matriz_distancias[manager.IndexToNode(from_index)][manager.IndexToNode(to_index)]\n",
    "    transit_callback_index = routing.RegisterTransitCallback(distance_callback)\n",
    "    routing.SetArcCostEvaluatorOfAllVehicles(transit_callback_index)\n",
    "    search_parameters = pywrapcp.DefaultRoutingSearchParameters()\n",
    "    search_parameters.first_solution_strategy = (routing_enums_pb2.FirstSolutionStrategy.PATH_CHEAPEST_ARC)\n",
    "    solution = routing.SolveWithParameters(search_parameters)\n",
    "    if solution:\n",
    "        ruta_optima_indices = []\n",
    "        index = routing.Start(0)\n",
    "        while not routing.IsEnd(index):\n",
    "            ruta_optima_indices.append(manager.IndexToNode(index))\n",
    "            index = solution.Value(routing.NextVar(index))\n",
    "        return ruta_optima_indices\n",
    "    return None"
   ]
  },
  {
   "cell_type": "code",
   "execution_count": null,
   "id": "e94ae137",
   "metadata": {},
   "outputs": [],
   "source": [
    "# Ordenar locaciones\n",
    "def sort_locations(locaciones, matriz_distancias):\n",
    "    \"\"\"\n",
    "    Ordena las locaciones usando el algoritmo TSP.\n",
    "    Devuelve una lista de índices de las locaciones ordenadas.\n",
    "    \"\"\"\n",
    "    orden_optimo_indices = resolver_tsp_con_ortools(matriz_distancias)\n",
    "    \n",
    "    if not orden_optimo_indices:\n",
    "        print(\"No se pudo encontrar una ruta óptima.\")\n",
    "        return None\n",
    "    \n",
    "    locaciones_ordenadas = [locaciones[i] for i in orden_optimo_indices]\n",
    "    \n",
    "    return locaciones_ordenadas"
   ]
  },
  {
   "cell_type": "code",
   "execution_count": null,
   "id": "d2fb62c0",
   "metadata": {},
   "outputs": [],
   "source": [
    "def calculate_routes(locaciones):\n",
    "    \"\"\"\n",
    "    Calcula las rutas entre una lista de locaciones.\n",
    "    Devuelve una lista de rutas, donde cada ruta es una lista de coordenadas [lat, lon].\n",
    "    \"\"\"\n",
    "    \n",
    "    if len(locaciones) < 2:\n",
    "        print(\"Se necesitan al menos 2 locaciones para crear una ruta.\")\n",
    "        return []\n",
    "\n",
    "    # 3. Reordenar locaciones y generar tramos de ruta\n",
    "    # Creamos una lista de puntos y cerramos el ciclo añadiendo el primero al final\n",
    "    puntos_ciclo = locaciones + [locaciones[0]]\n",
    "    rutas = []\n",
    "    \n",
    "    print(f\"Calculando {len(locaciones)} tramos de ruta...\")\n",
    "\n",
    "    for i in range(len(puntos_ciclo) - 1):\n",
    "        punto_a = puntos_ciclo[i]\n",
    "        punto_b = puntos_ciclo[i+1]\n",
    "\n",
    "        # Extraemos solo las coordenadas [lat, lon]\n",
    "        coord_a = [punto_a[0], punto_a[1]]\n",
    "        coord_b = [punto_b[0], punto_b[1]]\n",
    "        \n",
    "        # Obtenemos la ruta para el tramo\n",
    "        ruta_tramo = get_route_for_streets(coord_a, coord_b)\n",
    "        \n",
    "        if ruta_tramo:\n",
    "            rutas.append(ruta_tramo)\n",
    "            print(f\"  > Ruta de '{punto_a[2]}' a '{punto_b[2]}' calculada.\")\n",
    "        else:\n",
    "            print(f\"  > Falló la ruta de '{punto_a[2]}' a '{punto_b[2]}'.\")\n",
    "            \n",
    "    print(\"¡Proceso completado!\")\n",
    "    return rutas"
   ]
  },
  {
   "cell_type": "code",
   "execution_count": null,
   "id": "8b29fb4d",
   "metadata": {},
   "outputs": [],
   "source": [
    "# Graficar matriz de distancias\n",
    "def plot_distance_matrix(matriz_distancias, locaciones):\n",
    "    import matplotlib.pyplot as plt\n",
    "    import seaborn as sns\n",
    "    sns.set(style='whitegrid')\n",
    "\n",
    "    # Crear un DataFrame para la matriz de distancias\n",
    "    import pandas as pd\n",
    "    df = pd.DataFrame(matriz_distancias, index=[loc[2] for loc in locaciones], columns=[loc[2] for loc in locaciones])\n",
    "\n",
    "    # Graficar la matriz de distancias\n",
    "    plt.figure(figsize=(10, 8))\n",
    "    sns.heatmap(df, annot=True, fmt=\".1f\", cmap='coolwarm', square=True)\n",
    "    plt.title('Matriz de Distancias')\n",
    "    plt.show()"
   ]
  },
  {
   "cell_type": "code",
   "execution_count": null,
   "id": "a61280de",
   "metadata": {},
   "outputs": [],
   "source": [
    "# Ubicaciones en Tacna que usaremos como ejemplo\n",
    "locaciones_tacna = [\n",
    "    (-18.025947, -70.251223, 'Puerta de la U Av. Cusco'), # Punto inicial (Puerta de la U Av. Cusco)\n",
    "    (-18.018047, -70.253128, 'Plaza Vea'), # Plaza Vea\n",
    "    (-18.013997, -70.248859, 'DM Hotel'), # DM Hotel\n",
    "    (-18.013682, -70.250590, 'Arco parabolico'), # Arco parabolico\n",
    "    (-18.016574, -70.252357, 'Ferrocarril'), # Ferrocarril\n",
    "    (-18.013078, -70.254401, 'Museo Ferrobiario'), # Museo Ferrobiario\n",
    "]"
   ]
  },
  {
   "cell_type": "code",
   "execution_count": null,
   "id": "76a5e545",
   "metadata": {},
   "outputs": [],
   "source": [
    "center_point = [-18.027808, -70.251069]\n",
    "\n",
    "print(\"Descargando el grafo de calles de Tacna...\")\n",
    "G = ox.graph_from_point(center_point, dist=10000, network_type=\"drive\")\n",
    "fig,ax = ox.plot_graph(G, bgcolor=\"black\", node_size=5 , node_color=\"white\", figsize=(16,8))\n",
    "print(\"Grafo local listo.\")"
   ]
  },
  {
   "cell_type": "code",
   "execution_count": null,
   "id": "d48858ea",
   "metadata": {},
   "outputs": [],
   "source": [
    "matriz_distancias = crear_matriz_de_distancias(locaciones_tacna, G)\n",
    "plot_distance_matrix(matriz_distancias, locaciones_tacna)"
   ]
  },
  {
   "cell_type": "code",
   "execution_count": null,
   "id": "4b71877f",
   "metadata": {},
   "outputs": [],
   "source": [
    "locaciones_tacna = sort_locations(locaciones_tacna, matriz_distancias)\n",
    "print(f\"Locaciones ordenadas por TSP: {locaciones_tacna}\")"
   ]
  },
  {
   "cell_type": "code",
   "execution_count": null,
   "id": "7ad43de3",
   "metadata": {},
   "outputs": [],
   "source": [
    "# Calcular las rutas entre las locaciones\n",
    "rutas_calculadas = calculate_routes(locaciones_tacna)"
   ]
  },
  {
   "cell_type": "code",
   "execution_count": null,
   "id": "08978e5e",
   "metadata": {},
   "outputs": [],
   "source": [
    "# Crear el mapa base de Tacna\n",
    "# Coordenadas del centro de Tacna\n",
    "mapa_tacna = folium.Map(location=center_point, zoom_start=14)\n",
    "\n",
    "# Agregar los marcadores y las rutas al mapa\n",
    "add_marck_to_map(mapa_tacna, locaciones_tacna)\n",
    "add_route_to_map(mapa_tacna, rutas_calculadas)\n",
    "\n",
    "# Visualizar el mapa\n",
    "mapa_tacna"
   ]
  }
 ],
 "metadata": {
  "kernelspec": {
   "display_name": "route-optimization",
   "language": "python",
   "name": "python3"
  },
  "language_info": {
   "codemirror_mode": {
    "name": "ipython",
    "version": 3
   },
   "file_extension": ".py",
   "mimetype": "text/x-python",
   "name": "python",
   "nbconvert_exporter": "python",
   "pygments_lexer": "ipython3",
   "version": "3.10.16"
  }
 },
 "nbformat": 4,
 "nbformat_minor": 5
}
