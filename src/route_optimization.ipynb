{
 "cells": [
  {
   "cell_type": "code",
   "execution_count": null,
   "id": "c2baa8b5",
   "metadata": {},
   "outputs": [],
   "source": [
    "import pandas as pd \n",
    "import numpy as np \n",
    "import matplotlib.pyplot as plt \n",
    "import seaborn as sns \n",
    "import folium \n",
    "import plotly.express as px \n",
    "import osmnx as ox \n",
    "import networkx as nx \n",
    "from ortools.constraint_solver import pywrapcp \n",
    "from ortools.constraint_solver import routing_enums_pb2"
   ]
  },
  {
   "cell_type": "code",
   "execution_count": null,
   "id": "4e40c265",
   "metadata": {},
   "outputs": [],
   "source": [
    "city = \"London\"\n",
    "dtf=pd.read_csv('data_stores.csv')\n",
    "dtf=dtf[dtf[\"City\"]==city][ [\"City\", \"Street Address\", \"Latitude\", \"Longitude\"]].reset_index(drop=True)\n",
    "dtf=dtf.reset_index().rename(columns={\"index\":\"id\", \"Latitude\":\"y\", \"Longitude\":\"x\"})\n",
    "\n",
    "print(\"total\", len(dtf))\n",
    "dtf.head(3)"
   ]
  },
  {
   "cell_type": "code",
   "execution_count": null,
   "id": "de61e7d4",
   "metadata": {},
   "outputs": [],
   "source": [
    "data = dtf.copy()\n",
    "data[\"color\"]=''\n",
    "data.loc[data['id']==0 , 'color'] = 'red'\n",
    "data.loc[data['id']!=0 , 'color'] = 'black'\n",
    "start=data[data[\"id\"]==0][[\"y\",\"x\"]].values[0]\n",
    "data.head(3)\n",
    "print(\"starting point:\" , start)"
   ]
  },
  {
   "cell_type": "code",
   "execution_count": null,
   "id": "06682768",
   "metadata": {},
   "outputs": [],
   "source": [
    "map = folium.Map(location=start, tiles= \"cartodbpositron\", zoom_start=12)\n",
    "data.apply(lambda row: \n",
    "    folium.CircleMarker(\n",
    "        location=[row[\"y\"], row[\"x\"]], \n",
    "        color=row[\"color\"], fill = True, radius=5).add_to(map), axis=1)\n",
    "\n",
    "map "
   ]
  },
  {
   "cell_type": "code",
   "execution_count": null,
   "id": "dc8fad65",
   "metadata": {},
   "outputs": [],
   "source": [
    "G=ox.graph_from_point(start, dist=10000, network_type=\"drive\")\n",
    "G=ox.add_edge_speeds(G)\n",
    "G=ox.add_edge_travel_times(G)\n",
    "fig,ax = ox.plot_graph(G, bgcolor=\"black\", node_size=5 , node_color=\"white\", figsize=(16,8))"
   ]
  },
  {
   "cell_type": "code",
   "execution_count": null,
   "id": "6dc07dd4",
   "metadata": {},
   "outputs": [],
   "source": [
    "start_node=ox.distance.nearest_nodes(G, start[1], start[0])\n",
    "dtf[\"node\"]=dtf[[\"y\", \"x\"]].apply(lambda x: ox.distance.nearest_nodes(G, x[1], x[0]), axis=1)\n",
    "dtf=dtf.drop_duplicates(\"node\", keep='first')\n",
    "dtf.head()"
   ]
  },
  {
   "cell_type": "code",
   "execution_count": null,
   "id": "08186b12",
   "metadata": {},
   "outputs": [],
   "source": [
    "def f(a , b):\n",
    "    try:\n",
    "        d=nx.shortest_path_length(G, source=a, target=b, method='dijkstra', weight='travel_time')\n",
    "    except:\n",
    "        d=np.nan\n",
    "    return d\n",
    "\n",
    "distance_matrix=np.asarray([[f(a,b)for b in dtf[\"node\"].tolist()] for a in dtf[\"node\"].tolist()])\n",
    "distance_matrix=pd.DataFrame(distance_matrix, columns=dtf[\"node\"].values, index=dtf[\"node\"].values)\n",
    "\n",
    "distance_matrix.head()"
   ]
  },
  {
   "cell_type": "code",
   "execution_count": null,
   "id": "e10b1a00",
   "metadata": {},
   "outputs": [],
   "source": [
    "heatmap= distance_matrix.copy()\n",
    "for col in heatmap.columns:\n",
    "    heatmap[col]=heatmap[col].apply(lambda x: \n",
    "         0.3 if pd.isnull(x) else\n",
    "         (0.7 if np.isinf(x) else \n",
    "          (0 if x!=0 else 1)) )\n",
    "    \n",
    "fig, ax = plt.subplots(figsize=(10,5))\n",
    "sns.heatmap(heatmap, vmin=0 , vmax=1 , cbar=False, ax=ax)\n",
    "plt.show()"
   ]
  },
  {
   "cell_type": "code",
   "execution_count": null,
   "id": "5241c037",
   "metadata": {},
   "outputs": [],
   "source": [
    "distance_matrix= distance_matrix.round()\n",
    "distance_matrix=distance_matrix.astype('int')\n",
    "distance_matrix"
   ]
  },
  {
   "cell_type": "code",
   "execution_count": null,
   "id": "bf027bde",
   "metadata": {},
   "outputs": [],
   "source": [
    "drivers = 3 \n",
    "lst_nodes= dtf[\"node\"].tolist()\n",
    "print(\"start:\", start_node, \"total locations to visit\", len(lst_nodes)-1, \"drivers\", drivers)"
   ]
  },
  {
   "cell_type": "code",
   "execution_count": null,
   "id": "e1239776",
   "metadata": {},
   "outputs": [],
   "source": [
    "manager= pywrapcp.RoutingIndexManager(len(lst_nodes), drivers, lst_nodes.index(start_node))\n",
    "model=pywrapcp.RoutingModel(manager)"
   ]
  },
  {
   "cell_type": "code",
   "execution_count": null,
   "id": "87321b52",
   "metadata": {},
   "outputs": [],
   "source": [
    "def get_distance(from_index, to_index):\n",
    "    return distance_matrix.iloc[from_index, to_index]\n",
    "\n",
    "distance=model.RegisterTransitCallback(get_distance)\n",
    "model.SetArcCostEvaluatorOfAllVehicles(distance)\n",
    "\n",
    "parameters = pywrapcp.DefaultRoutingSearchParameters()\n",
    "parameters.first_solution_strategy= (routing_enums_pb2.FirstSolutionStrategy.PATH_CHEAPEST_ARC)"
   ]
  },
  {
   "cell_type": "code",
   "execution_count": null,
   "id": "e0b3d2b9",
   "metadata": {},
   "outputs": [],
   "source": [
    "solution= model.SolveWithParameters(parameters)\n",
    "\n",
    "index=model.Start(0)\n",
    "print('route for driver:')\n",
    "route_idx, route_distance = [], 0\n",
    "\n",
    "while not model.IsEnd(index):\n",
    "    route_idx.append(manager.IndexToNode(index))\n",
    "    previous_index=index\n",
    "    index=solution.Value(model.NextVar(index))\n",
    "    \n",
    "    try:\n",
    "        route_distance +=get_distance(previous_index, index)\n",
    "    except:\n",
    "        route_distance+=model.GetArcCostForVehicle(from_index=previous_index, to_index=index, vehicle=0)\n",
    "        \n",
    "print(route_idx)\n",
    "print(f'Total distance:{round(route_distance/1000,2)}km')\n",
    "print(f'Nodes visited: {len(route_idx)}')"
   ]
  },
  {
   "cell_type": "code",
   "execution_count": null,
   "id": "754d622e",
   "metadata": {},
   "outputs": [],
   "source": [
    "print(\"Route for driver (nodes):\")\n",
    "lst_route=[lst_nodes[i] for i in route_idx]\n",
    "print(lst_route)"
   ]
  },
  {
   "cell_type": "code",
   "execution_count": null,
   "id": "38b720d0",
   "metadata": {},
   "outputs": [],
   "source": [
    "def get_path_between_nodes(lst_route):\n",
    "    lst_paths=[]\n",
    "    for i in range (len(lst_route)):\n",
    "        try :\n",
    "            a , b = lst_nodes[i], lst_nodes[i+1]\n",
    "        except:\n",
    "            break\n",
    "        try:\n",
    "            path=nx.shortest_path(G, source=a, target=b, method ='dijkstra', weight='travel_time')\n",
    "            if len(path) > 1:\n",
    "                lst_paths.append(path)\n",
    "        except:\n",
    "            continue\n",
    "    return lst_paths\n",
    "\n",
    "lst_paths= get_path_between_nodes(lst_route)\n",
    "\n",
    "for path in lst_paths:\n",
    "    ox.plot_route_folium(G, route=path, route_map=map, color=\"blue\", weight=1)\n",
    "    \n",
    "map"
   ]
  },
  {
   "cell_type": "code",
   "execution_count": null,
   "id": "9aa1162c",
   "metadata": {},
   "outputs": [],
   "source": [
    "def df_animation_multiple_path(G, lst_paths, parallel=True):\n",
    "    df=pd.DataFrame()\n",
    "    for path in lst_paths :\n",
    "        lst_start, lst_end = [] , []\n",
    "        start_x, start_y = [] , []\n",
    "        end_x, end_y = [], []\n",
    "        lst_length, lst_time = [], [] \n",
    "        \n",
    "        for a , b in zip (path[:-1], path[1:]):\n",
    "            lst_start.append(a)\n",
    "            lst_end.append(b)\n",
    "            lst_length.append(round(G.edges[(a,b,0)]['length']))\n",
    "            lst_time.append(round(G.edges[(a,b,0)]['travel_time']))\n",
    "            start_x.append(G.nodes[a]['x'])\n",
    "            start_y.append(G.nodes[a]['y'])\n",
    "            end_x.append(G.nodes[b]['x'])\n",
    "            end_y.append(G.nodes[b]['y'])\n",
    "            \n",
    "        tmp=pd.DataFrame(list(zip(lst_start, lst_end, start_x, start_y, end_x, end_y, lst_length, lst_time)), \n",
    "                         columns= [\"start\", \"end\", \"start_x\", \"start_y\", \"end_x\", \"end_y\", \"length\", \"travel_time\"])\n",
    "        df=pd.concat([df,tmp], ignore_index=(not parallel))\n",
    "        \n",
    "    df=df.reset_index().rename(columns={\"index\":\"id\"})\n",
    "    return df"
   ]
  },
  {
   "cell_type": "code",
   "execution_count": null,
   "id": "b328de42",
   "metadata": {},
   "outputs": [],
   "source": [
    "df= pd.DataFrame()\n",
    "tmp=df_animation_multiple_path(G, lst_paths, parallel=False)\n",
    "df=pd.concat([df, tmp], axis=0)\n",
    "first_node, last_node= lst_paths[0][0], lst_paths[-1][-1]"
   ]
  },
  {
   "cell_type": "code",
   "execution_count": null,
   "id": "24fea267",
   "metadata": {},
   "outputs": [],
   "source": [
    "df_start= df[df[\"start\"]== first_node]\n",
    "df_end=df[df[\"end\"]== last_node]\n",
    "\n",
    "fig=px.scatter_mapbox(data_frame=df, lon=\"start_x\", lat=\"start_y\", zoom=15, width=900, height=700, animation_frame=\"id\",mapbox_style=\"carto-positron\")\n",
    "\n",
    "fig.data[0].marker={\"size\":12}\n",
    "\n",
    "fig.add_trace(px.scatter_mapbox(data_frame=dtf, lon=\"x\", lat=\"y\").data[0])\n",
    "fig.data[1].marker={\"size\":10, \"color\":\"black\"}\n",
    "\n",
    "fig.add_trace(px.scatter_mapbox(data_frame=df_start, lon=\"start_x\", lat=\"start_y\").data[0])\n",
    "fig.data[2].marker={\"size\":15, \"color\":\"red\"}\n",
    "\n",
    "fig.add_trace(px.scatter_mapbox(data_frame=df_end, lon=\"start_x\", lat=\"start_y\").data[0])\n",
    "fig.data[3].marker={\"size\":15, \"color\":\"green\"}\n",
    "\n",
    "fig.add_trace(px.line_mapbox(data_frame=df, lon=\"start_x\", lat=\"start_y\").data[0])\n",
    "\n",
    "fig"
   ]
  }
 ],
 "metadata": {
  "kernelspec": {
   "display_name": ".venv",
   "language": "python",
   "name": "python3"
  },
  "language_info": {
   "codemirror_mode": {
    "name": "ipython",
    "version": 3
   },
   "file_extension": ".py",
   "mimetype": "text/x-python",
   "name": "python",
   "nbconvert_exporter": "python",
   "pygments_lexer": "ipython3",
   "version": "3.10.0"
  }
 },
 "nbformat": 4,
 "nbformat_minor": 5
}
