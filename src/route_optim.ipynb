{
 "cells": [
  {
   "cell_type": "code",
   "execution_count": null,
   "id": "8851fa89",
   "metadata": {},
   "outputs": [],
   "source": [
    "import osmnx as ox\n",
    "import networkx as nx\n",
    "import folium\n",
    "import numpy as np\n",
    "import matplotlib.pyplot as plt\n",
    "from ortools.constraint_solver import routing_enums_pb2\n",
    "from ortools.constraint_solver import pywrapcp\n"
   ]
  },
  {
   "cell_type": "code",
   "execution_count": null,
   "id": "e85adb85",
   "metadata": {},
   "outputs": [],
   "source": [
    "# Cargar la red vial (modo: auto, caminando, bicicleta)\n",
    "center_point = [-18.027808, -70.251069]\n",
    "G = ox.graph_from_point(center_point, dist=10000, network_type=\"drive\")\n",
    "G = ox.add_edge_speeds(G)\n",
    "G = ox.add_edge_travel_times(G)\n",
    "fig,ax = ox.plot_graph(G, bgcolor=\"black\", node_size=5 , node_color=\"white\", figsize=(16,8))"
   ]
  },
  {
   "cell_type": "code",
   "execution_count": null,
   "id": "f39b226c",
   "metadata": {},
   "outputs": [],
   "source": [
    "puntos = [\n",
    "    (-18.025947, -70.251223), # Punto inicial (Puerta de la U Av. Cusco)\n",
    "    (-18.018047, -70.253128), # Plaza Vea\n",
    "    (-18.013997, -70.248859), # DM Hotel\n",
    "    (-18.013682, -70.250590), # Arco parabolico\n",
    "    (-18.016574, -70.252357), # Ferrocarril\n",
    "    (-18.013078, -70.254401), # Museo Ferrobiario\n",
    "]"
   ]
  },
  {
   "cell_type": "code",
   "execution_count": null,
   "id": "5fafa417",
   "metadata": {},
   "outputs": [],
   "source": [
    "mapa = folium.Map(location=puntos[0], titles=\"Puntos de Entrega\", zoom_start=14)\n",
    "    \n",
    "for i, idx in enumerate(puntos):\n",
    "    folium.Marker(location=[idx[0],idx[1]], tooltip=f\"Punto {i}\").add_to(mapa)\n",
    "\n",
    "mapa"
   ]
  },
  {
   "cell_type": "code",
   "execution_count": null,
   "id": "346eaaeb",
   "metadata": {},
   "outputs": [],
   "source": [
    "nodos = [ox.distance.nearest_nodes(G, lon, lat) for lat, lon in puntos]"
   ]
  },
  {
   "cell_type": "code",
   "execution_count": null,
   "id": "a29dc60d",
   "metadata": {},
   "outputs": [],
   "source": [
    "def crear_matriz_distancias(grafo, nodos):\n",
    "    n = len(nodos)\n",
    "    distancias = np.zeros((n, n))\n",
    "    for i in range(n):\n",
    "        for j in range(n):\n",
    "            if i != j:\n",
    "                dist = nx.shortest_path_length(grafo, nodos[i], nodos[j], weight='length')\n",
    "                distancias[i][j] = dist\n",
    "    return distancias\n"
   ]
  },
  {
   "cell_type": "code",
   "execution_count": null,
   "id": "588d9348",
   "metadata": {},
   "outputs": [],
   "source": [
    "def resolver_tsp(matriz):\n",
    "    n = len(matriz)\n",
    "    manager = pywrapcp.RoutingIndexManager(n, 1, 0)\n",
    "    routing = pywrapcp.RoutingModel(manager)\n",
    "\n",
    "    def distance_callback(from_index, to_index):\n",
    "        return int(matriz[manager.IndexToNode(from_index)][manager.IndexToNode(to_index)])\n",
    "    \n",
    "    transit_callback_index = routing.RegisterTransitCallback(distance_callback)\n",
    "    routing.SetArcCostEvaluatorOfAllVehicles(transit_callback_index)\n",
    "\n",
    "    search_parameters = pywrapcp.DefaultRoutingSearchParameters()\n",
    "    search_parameters.first_solution_strategy = routing_enums_pb2.FirstSolutionStrategy.PATH_CHEAPEST_ARC\n",
    "\n",
    "    solution = routing.SolveWithParameters(search_parameters)\n",
    "    \n",
    "    ruta = []\n",
    "    if solution:\n",
    "        index = routing.Start(0)\n",
    "        while not routing.IsEnd(index):\n",
    "            ruta.append(manager.IndexToNode(index))\n",
    "            index = solution.Value(routing.NextVar(index))\n",
    "        ruta.append(manager.IndexToNode(index))\n",
    "    return ruta\n"
   ]
  },
  {
   "cell_type": "code",
   "execution_count": null,
   "id": "2088d258",
   "metadata": {},
   "outputs": [],
   "source": [
    "def visualizar_ruta(grafo, puntos, nodos, orden):\n",
    "    mapa = folium.Map(location=puntos[0], zoom_start=14)\n",
    "    \n",
    "    for i, idx in enumerate(orden):\n",
    "        folium.Marker(puntos[idx], tooltip=f\"Punto {i}\").add_to(mapa)\n",
    "    \n",
    "    for i in range(len(orden) - 1):\n",
    "        path = nx.shortest_path(grafo, nodos[orden[i]], nodos[orden[i+1]], weight=\"length\")\n",
    "        coords = [(grafo.nodes[n]['y'], grafo.nodes[n]['x']) for n in path]\n",
    "        folium.PolyLine(coords, color=\"blue\", weight=4).add_to(mapa)\n",
    "\n",
    "    return mapa\n"
   ]
  },
  {
   "cell_type": "code",
   "execution_count": null,
   "id": "1cf3e52f",
   "metadata": {},
   "outputs": [],
   "source": [
    "matriz = crear_matriz_distancias(G, nodos)\n",
    "orden = resolver_tsp(matriz)\n",
    "mapa = visualizar_ruta(G, puntos, nodos, orden)\n",
    "mapa\n"
   ]
  }
 ],
 "metadata": {
  "kernelspec": {
   "display_name": ".venv",
   "language": "python",
   "name": "python3"
  },
  "language_info": {
   "codemirror_mode": {
    "name": "ipython",
    "version": 3
   },
   "file_extension": ".py",
   "mimetype": "text/x-python",
   "name": "python",
   "nbconvert_exporter": "python",
   "pygments_lexer": "ipython3",
   "version": "3.10.16"
  }
 },
 "nbformat": 4,
 "nbformat_minor": 5
}
